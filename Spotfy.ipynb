{
  "nbformat": 4,
  "nbformat_minor": 0,
  "metadata": {
    "colab": {
      "name": "Spotfy.ipynb",
      "provenance": [],
      "authorship_tag": "ABX9TyMqs3Dth/O1AyN8IzGVNqaX",
      "include_colab_link": true
    },
    "kernelspec": {
      "name": "python3",
      "display_name": "Python 3"
    },
    "language_info": {
      "name": "python"
    }
  },
  "cells": [
    {
      "cell_type": "markdown",
      "metadata": {
        "id": "view-in-github",
        "colab_type": "text"
      },
      "source": [
        "<a href=\"https://colab.research.google.com/github/guizucolotto/Spotfy-Analysis/blob/main/Spotfy.ipynb\" target=\"_parent\"><img src=\"https://colab.research.google.com/assets/colab-badge.svg\" alt=\"Open In Colab\"/></a>"
      ]
    },
    {
      "cell_type": "code",
      "execution_count": null,
      "metadata": {
        "colab": {
          "base_uri": "https://localhost:8080/"
        },
        "id": "z21rbCk3Gsfk",
        "outputId": "b90d4193-408e-4b5e-ff08-dbcbc697fe13"
      },
      "outputs": [
        {
          "output_type": "stream",
          "name": "stdout",
          "text": [
            "Requirement already satisfied: spotify in /usr/local/lib/python3.7/dist-packages (0.10.2)\n",
            "Requirement already satisfied: backoff<2.0.0,>=1.10.0 in /usr/local/lib/python3.7/dist-packages (from spotify) (1.11.1)\n",
            "Requirement already satisfied: aiohttp<4.0,>=3.6 in /usr/local/lib/python3.7/dist-packages (from spotify) (3.8.1)\n",
            "Requirement already satisfied: multidict<7.0,>=4.5 in /usr/local/lib/python3.7/dist-packages (from aiohttp<4.0,>=3.6->spotify) (6.0.2)\n",
            "Requirement already satisfied: charset-normalizer<3.0,>=2.0 in /usr/local/lib/python3.7/dist-packages (from aiohttp<4.0,>=3.6->spotify) (2.0.12)\n",
            "Requirement already satisfied: frozenlist>=1.1.1 in /usr/local/lib/python3.7/dist-packages (from aiohttp<4.0,>=3.6->spotify) (1.3.0)\n",
            "Requirement already satisfied: yarl<2.0,>=1.0 in /usr/local/lib/python3.7/dist-packages (from aiohttp<4.0,>=3.6->spotify) (1.7.2)\n",
            "Requirement already satisfied: aiosignal>=1.1.2 in /usr/local/lib/python3.7/dist-packages (from aiohttp<4.0,>=3.6->spotify) (1.2.0)\n",
            "Requirement already satisfied: asynctest==0.13.0 in /usr/local/lib/python3.7/dist-packages (from aiohttp<4.0,>=3.6->spotify) (0.13.0)\n",
            "Requirement already satisfied: attrs>=17.3.0 in /usr/local/lib/python3.7/dist-packages (from aiohttp<4.0,>=3.6->spotify) (21.4.0)\n",
            "Requirement already satisfied: typing-extensions>=3.7.4 in /usr/local/lib/python3.7/dist-packages (from aiohttp<4.0,>=3.6->spotify) (4.1.1)\n",
            "Requirement already satisfied: async-timeout<5.0,>=4.0.0a3 in /usr/local/lib/python3.7/dist-packages (from aiohttp<4.0,>=3.6->spotify) (4.0.2)\n",
            "Requirement already satisfied: idna>=2.0 in /usr/local/lib/python3.7/dist-packages (from yarl<2.0,>=1.0->aiohttp<4.0,>=3.6->spotify) (2.10)\n",
            "Requirement already satisfied: spotipy in /usr/local/lib/python3.7/dist-packages (2.19.0)\n",
            "Requirement already satisfied: six>=1.15.0 in /usr/local/lib/python3.7/dist-packages (from spotipy) (1.15.0)\n",
            "Requirement already satisfied: requests>=2.25.0 in /usr/local/lib/python3.7/dist-packages (from spotipy) (2.27.1)\n",
            "Requirement already satisfied: urllib3>=1.26.0 in /usr/local/lib/python3.7/dist-packages (from spotipy) (1.26.9)\n",
            "Requirement already satisfied: certifi>=2017.4.17 in /usr/local/lib/python3.7/dist-packages (from requests>=2.25.0->spotipy) (2021.10.8)\n",
            "Requirement already satisfied: charset-normalizer~=2.0.0 in /usr/local/lib/python3.7/dist-packages (from requests>=2.25.0->spotipy) (2.0.12)\n",
            "Requirement already satisfied: idna<4,>=2.5 in /usr/local/lib/python3.7/dist-packages (from requests>=2.25.0->spotipy) (2.10)\n"
          ]
        }
      ],
      "source": [
        "!pip install spotify\n",
        "!pip install spotipy"
      ]
    },
    {
      "cell_type": "code",
      "source": [
        "import json\n",
        "import spotipy\n",
        "import pandas as pd\n",
        "from spotipy.oauth2 import SpotifyClientCredentials\n",
        "from sklearn.preprocessing import MinMaxScaler\n",
        "import matplotlib.pyplot as plt\n",
        "from math import pi\n",
        "import numpy as np"
      ],
      "metadata": {
        "id": "BiWN5uepGvLF"
      },
      "execution_count": null,
      "outputs": []
    },
    {
      "cell_type": "code",
      "source": [
        "#Retrieve Client credentials from Spotify Developer Page\n",
        "client_id = '8ae3862729ff49e0a9b043e56d5ac992'\n",
        "client_secret = ''\n",
        "\n",
        "client_credentials_manager = SpotifyClientCredentials(client_id, client_secret)\n",
        "sp = spotipy.Spotify(client_credentials_manager=client_credentials_manager)\n",
        "\n",
        "#Retrieve playlist_id by getting the Spotify URI of any playlist\n",
        "playlist_id = \"spotify:playlist:6kevA74U0npbbL1G9s03F6\"\n",
        "results = sp.playlist(playlist_id)\n",
        "extra_results = sp.playlist_items(playlist_id)\n",
        "\n",
        "min_max_scaler = MinMaxScaler()"
      ],
      "metadata": {
        "id": "JmpBjMj5G3Hl"
      },
      "execution_count": null,
      "outputs": []
    },
    {
      "cell_type": "code",
      "source": [
        "playlists = sp.user_playlists('12185137896')\n",
        "while playlists:\n",
        "    for i, playlist in enumerate(playlists['items']):\n",
        "        print(\"%4d %s %s\" % (i + 1 + playlists['offset'], playlist['uri'],  playlist['name']))\n",
        "    if playlists['next']:\n",
        "        playlists = sp.next(playlists)\n",
        "    else:\n",
        "        playlists = None"
      ],
      "metadata": {
        "colab": {
          "base_uri": "https://localhost:8080/"
        },
        "id": "TT1Yl9phooHD",
        "outputId": "b324a1d8-be76-4915-e22f-3de5ed4229a0"
      },
      "execution_count": null,
      "outputs": [
        {
          "output_type": "stream",
          "name": "stdout",
          "text": [
            "   1 spotify:playlist:5affVGhZs1O8M4dsgxgo9t Emo never dies 🖤\n",
            "   2 spotify:playlist:3uiR71GbiGVSOJu2zvBdB3 2022\n",
            "   3 spotify:playlist:2T9LqhVj66L467pTbwQJx9 2020 /2021\n",
            "   4 spotify:playlist:18I7Y1RGVEbdtrotY2M3KS CORTEJO\n",
            "   5 spotify:playlist:7JuSRbwbIeXJ6QqezoubWt RECEPÇÃO CASAMENTO\n",
            "   6 spotify:playlist:59buMr9Qg67kINCwPnI7oN 30 anos\n",
            "   7 spotify:playlist:36vSTrLwrwOMcKEHqd2mwg Aula Dance Up\n",
            "   8 spotify:playlist:2MM7SztydQMLkWLvw7JXX2 Aula Dance Zen\n",
            "   9 spotify:playlist:2M8IGLNDz9FVK8GJ688jGt Aula Cadillac Dance\n",
            "  10 spotify:playlist:4XcBxKcHFWuYuyhJuqRfHR Aula Pilates Variadas\n",
            "  11 spotify:playlist:3W2QBLi1SEsjyftNeUeI4C 2017 / Campos \n",
            "  12 spotify:playlist:2YJecgCLnMiSUnkxmWFdjF Praia\n",
            "  13 spotify:playlist:1AS3T503OlGfKrn5gZwIHT Someday We'll Know – New Radicals\n",
            "  14 spotify:playlist:4Ou1rdjKjzECSuBmEJTrgH Trip\n",
            "  15 spotify:playlist:7B1b9ps6ePczJGYXvfuaH5 chão\n",
            "  16 spotify:playlist:37i9dQZF1DWTkxQvqMy4WW Chillin' on a Dirt Road\n",
            "  17 spotify:playlist:37i9dQZF1DX6ziVCJnEm59 Your Favorite Coffeehouse\n",
            "  18 spotify:playlist:21ygPvu9FuMHjHpYD0Lp6Q Favorite Misselaneous \n",
            "  19 spotify:playlist:37i9dQZF1DXa2PvUpywmrr Party Hits\n",
            "  20 spotify:playlist:37i9dQZF1DX3LyU0mhfqgP Out Now\n",
            "  21 spotify:playlist:2M69bZg7T7Sb4lgHiGTSzR Dance class\n",
            "  22 spotify:playlist:37i9dQZF1DWYBO1MoTDhZI Good Vibes\n",
            "  23 spotify:playlist:37i9dQZF1DX4WYpdgoIcn6 Chill Hits\n",
            "  24 spotify:playlist:37i9dQZF1DX1lVhptIYRda Hot Country\n",
            "  25 spotify:playlist:6kevA74U0npbbL1G9s03F6 Alt Nation\n",
            "  26 spotify:playlist:7vNr7Oi3JTAsMdoOYqyh42 🇧🇷\n",
            "  27 spotify:playlist:37i9dQZF1DWUa8ZRTfalHk Pop Rising\n",
            "  28 spotify:playlist:37i9dQZF1DXa9xHlDa5fc6 License To Chill\n",
            "  29 spotify:playlist:37i9dQZF1DWTwnEm1IYyoj Soft Pop Hits\n",
            "  30 spotify:playlist:37i9dQZF1DX0MLFaUdXnjA Chill Pop\n",
            "  31 spotify:playlist:0Qw5mg48ogUz3PPe5A6L35 Brasil\n",
            "  32 spotify:playlist:2QIM4f4MuN3xTH2ODv94I4 Throwback 💀\n",
            "  33 spotify:playlist:71H9WLtUtoY1QtyTnqQgSa All The Feels \n",
            "  34 spotify:playlist:37i9dQZF1DWXJyjYpHunCf Folk Pop\n",
            "  35 spotify:playlist:37i9dQZF1DXbYM3nMM0oPk Mega Hit Mix\n",
            "  36 spotify:playlist:5BPXTlnRsRqvCIpAwQOIic HIGHLIGHTS\n",
            "  37 spotify:playlist:5IqxobWbzyo8uWjYUU4Zat 🍺  Weekend\n",
            "  38 spotify:playlist:37i9dQZF1DX5Ozry5U6G0d Summer Party\n",
            "  39 spotify:playlist:2WE4pRwhPDOnopAJNojcfi 🏋🏻‍♀️ work out\n",
            "  40 spotify:playlist:37i9dQZF1DX6ALfRKlHn1t Soak Up the Sun\n",
            "  41 spotify:playlist:5GK80KIzBc28bpjyhl2sfx 💃  to dance\n",
            "  42 spotify:playlist:6Bzlte6Ueg5razMbwx2vaQ Top 50 Rap / Hip Hop Hits\n",
            "  43 spotify:playlist:7v92vbrYMproiSzq84uCMc 🧘🏻‍♀️ Introspectiva\n",
            "  44 spotify:playlist:1VLhDVn9JsnozwPwCN5F6x Old but Gold\n"
          ]
        }
      ]
    },
    {
      "cell_type": "code",
      "source": [
        "results['tracks']['items'][0]['track']['name']"
      ],
      "metadata": {
        "id": "WgWv7iOKiK5r",
        "colab": {
          "base_uri": "https://localhost:8080/",
          "height": 36
        },
        "outputId": "b64532c8-c984-4c69-8551-bcd91ade4b68"
      },
      "execution_count": null,
      "outputs": [
        {
          "output_type": "execute_result",
          "data": {
            "text/plain": [
              "'Favorite Liar'"
            ],
            "application/vnd.google.colaboratory.intrinsic+json": {
              "type": "string"
            }
          },
          "metadata": {},
          "execution_count": 35
        }
      ]
    },
    {
      "cell_type": "code",
      "source": [
        "#Function to Convert JSON to Dataframe\n",
        "# create a list of song ids\n",
        "ids=[]\n",
        "\n",
        "for item in results['tracks']['items']:\n",
        "        track = item['track']['id']\n",
        "        ids.append(track)\n",
        "        \n",
        "song_meta={'id':[],'album':[], 'name':[], \n",
        "           'artist':[],'explicit':[],'popularity':[]}\n",
        "\n",
        "for song_id in ids:\n",
        "    # get song's meta data\n",
        "    meta = sp.track(song_id)\n",
        "    \n",
        "    # song id\n",
        "    song_meta['id'].append(song_id)\n",
        "\n",
        "    # album name\n",
        "    album=meta['album']['name']\n",
        "    song_meta['album']+=[album]\n",
        "\n",
        "    # song name\n",
        "    song=meta['name']\n",
        "    song_meta['name']+=[song]\n",
        "    \n",
        "    # artists name\n",
        "    s = ', '\n",
        "    artist=s.join([singer_name['name'] for singer_name in meta['artists']])\n",
        "    song_meta['artist']+=[artist]\n",
        "    \n",
        "    # explicit: lyrics could be considered offensive or unsuitable for children\n",
        "    explicit=meta['explicit']\n",
        "    song_meta['explicit'].append(explicit)\n",
        "    \n",
        "    # song popularity\n",
        "    popularity=meta['popularity']\n",
        "    song_meta['popularity'].append(popularity)\n",
        "\n",
        "song_meta_df=pd.DataFrame.from_dict(song_meta)\n",
        "\n",
        "# check the song feature\n",
        "features = sp.audio_features(song_meta['id'])\n",
        "# change dictionary to dataframe\n",
        "features_df=pd.DataFrame.from_dict(features)\n",
        "\n",
        "# convert milliseconds to mins\n",
        "# duration_ms: The duration of the track in milliseconds.\n",
        "# 1 minute = 60 seconds = 60 × 1000 milliseconds = 60,000 ms\n",
        "features_df['duration_ms']=features_df['duration_ms']/60000\n",
        "\n",
        "# combine two dataframe\n",
        "final_df=song_meta_df.merge(features_df)\n",
        "\n",
        "\n",
        "# create artist information\n",
        "artists = []\n",
        "generos = []\n",
        "\n",
        "for item in extra_results['items']:\n",
        "    artist_id = item['track']['artists'][0]['uri']\n",
        "    genres = sp.artist(artist_id)['genres']\n",
        "\n",
        "    artists.append(artist_id)\n",
        "    generos.append(genres)\n",
        "\n",
        "#combine data\n",
        "final_df['artist_id'] = artists\n",
        "final_df['generos'] = generos\n"
      ],
      "metadata": {
        "id": "nnV89Nu7G5M1"
      },
      "execution_count": null,
      "outputs": []
    },
    {
      "cell_type": "code",
      "source": [
        "#sp.artist(\"3YQKmKGau1PzlVlkL1iodx\")['genres']"
      ],
      "metadata": {
        "id": "VPkEs60mr5Qu"
      },
      "execution_count": null,
      "outputs": []
    },
    {
      "cell_type": "code",
      "source": [
        "final_df.head()"
      ],
      "metadata": {
        "colab": {
          "base_uri": "https://localhost:8080/",
          "height": 664
        },
        "id": "Mf9wk7srJbX0",
        "outputId": "3b67942c-2099-4701-9e28-3cf6d73b9d19"
      },
      "execution_count": null,
      "outputs": [
        {
          "output_type": "execute_result",
          "data": {
            "text/plain": [
              "                       id                                              album  \\\n",
              "0  2fOmsaSjCncWDVJ1N8S2TZ                                  We Are the Wrecks   \n",
              "1  39bpQHvHkE0K7UUD2HL9oI                                             Cocoon   \n",
              "2  4AyoAGuhE8gydBPrczuhbl                   When It Was Now (Deluxe Edition)   \n",
              "3  5hc71nKsUgtwQ3z52KEKQk  I like it when you sleep, for you are so beaut...   \n",
              "4  2JHBMVs8E7bJJBLkXpKgHn                                              Babel   \n",
              "\n",
              "            name          artist  explicit  popularity  danceability  energy  \\\n",
              "0  Favorite Liar      The Wrecks     False           0         0.643   0.737   \n",
              "1         Cocoon    Milky Chance     False           0         0.732   0.708   \n",
              "2        Trojans    Atlas Genius     False          50         0.721   0.822   \n",
              "3  Somebody Else        The 1975      True          74         0.610   0.788   \n",
              "4    I Will Wait  Mumford & Sons     False           0         0.481   0.766   \n",
              "\n",
              "   key  loudness  ...  valence    tempo            type  \\\n",
              "0    9    -3.467  ...    0.319  119.974  audio_features   \n",
              "1   10    -5.978  ...    0.749  114.033  audio_features   \n",
              "2    7    -4.843  ...    0.536  140.002  audio_features   \n",
              "3    0    -5.724  ...    0.472  101.045  audio_features   \n",
              "4    1    -5.208  ...    0.436  131.143  audio_features   \n",
              "\n",
              "                                    uri  \\\n",
              "0  spotify:track:2fOmsaSjCncWDVJ1N8S2TZ   \n",
              "1  spotify:track:39bpQHvHkE0K7UUD2HL9oI   \n",
              "2  spotify:track:4AyoAGuhE8gydBPrczuhbl   \n",
              "3  spotify:track:5hc71nKsUgtwQ3z52KEKQk   \n",
              "4  spotify:track:2JHBMVs8E7bJJBLkXpKgHn   \n",
              "\n",
              "                                          track_href  \\\n",
              "0  https://api.spotify.com/v1/tracks/2fOmsaSjCncW...   \n",
              "1  https://api.spotify.com/v1/tracks/39bpQHvHkE0K...   \n",
              "2  https://api.spotify.com/v1/tracks/4AyoAGuhE8gy...   \n",
              "3  https://api.spotify.com/v1/tracks/5hc71nKsUgtw...   \n",
              "4  https://api.spotify.com/v1/tracks/2JHBMVs8E7bJ...   \n",
              "\n",
              "                                        analysis_url  duration_ms  \\\n",
              "0  https://api.spotify.com/v1/audio-analysis/2fOm...     4.037500   \n",
              "1  https://api.spotify.com/v1/audio-analysis/39bp...     4.233550   \n",
              "2  https://api.spotify.com/v1/audio-analysis/4Ayo...     3.623117   \n",
              "3  https://api.spotify.com/v1/audio-analysis/5hc7...     5.792000   \n",
              "4  https://api.spotify.com/v1/audio-analysis/2JHB...     4.612000   \n",
              "\n",
              "  time_signature                              artist_id  \\\n",
              "0              4  spotify:artist:458aS6ALc3QkzwfR5USt34   \n",
              "1              4  spotify:artist:1hzfo8twXdOegF3xireCYs   \n",
              "2              4  spotify:artist:42vg2T0Xg9yPaAgogJzoQH   \n",
              "3              4  spotify:artist:3mIj9lX2MWuHmhNCA7LSCW   \n",
              "4              4  spotify:artist:3gd8FJtBJtkRxdfbTu19U2   \n",
              "\n",
              "                                             generos  \n",
              "0  [la indie, modern alternative rock, modern roc...  \n",
              "1                                       [german pop]  \n",
              "2  [indie poptimism, indietronica, modern alterna...  \n",
              "3  [modern alternative rock, modern rock, pop, rock]  \n",
              "4  [modern folk rock, modern rock, pop rock, stom...  \n",
              "\n",
              "[5 rows x 25 columns]"
            ],
            "text/html": [
              "\n",
              "  <div id=\"df-06284ce4-4313-445c-a3a6-d208a5972a26\">\n",
              "    <div class=\"colab-df-container\">\n",
              "      <div>\n",
              "<style scoped>\n",
              "    .dataframe tbody tr th:only-of-type {\n",
              "        vertical-align: middle;\n",
              "    }\n",
              "\n",
              "    .dataframe tbody tr th {\n",
              "        vertical-align: top;\n",
              "    }\n",
              "\n",
              "    .dataframe thead th {\n",
              "        text-align: right;\n",
              "    }\n",
              "</style>\n",
              "<table border=\"1\" class=\"dataframe\">\n",
              "  <thead>\n",
              "    <tr style=\"text-align: right;\">\n",
              "      <th></th>\n",
              "      <th>id</th>\n",
              "      <th>album</th>\n",
              "      <th>name</th>\n",
              "      <th>artist</th>\n",
              "      <th>explicit</th>\n",
              "      <th>popularity</th>\n",
              "      <th>danceability</th>\n",
              "      <th>energy</th>\n",
              "      <th>key</th>\n",
              "      <th>loudness</th>\n",
              "      <th>...</th>\n",
              "      <th>valence</th>\n",
              "      <th>tempo</th>\n",
              "      <th>type</th>\n",
              "      <th>uri</th>\n",
              "      <th>track_href</th>\n",
              "      <th>analysis_url</th>\n",
              "      <th>duration_ms</th>\n",
              "      <th>time_signature</th>\n",
              "      <th>artist_id</th>\n",
              "      <th>generos</th>\n",
              "    </tr>\n",
              "  </thead>\n",
              "  <tbody>\n",
              "    <tr>\n",
              "      <th>0</th>\n",
              "      <td>2fOmsaSjCncWDVJ1N8S2TZ</td>\n",
              "      <td>We Are the Wrecks</td>\n",
              "      <td>Favorite Liar</td>\n",
              "      <td>The Wrecks</td>\n",
              "      <td>False</td>\n",
              "      <td>0</td>\n",
              "      <td>0.643</td>\n",
              "      <td>0.737</td>\n",
              "      <td>9</td>\n",
              "      <td>-3.467</td>\n",
              "      <td>...</td>\n",
              "      <td>0.319</td>\n",
              "      <td>119.974</td>\n",
              "      <td>audio_features</td>\n",
              "      <td>spotify:track:2fOmsaSjCncWDVJ1N8S2TZ</td>\n",
              "      <td>https://api.spotify.com/v1/tracks/2fOmsaSjCncW...</td>\n",
              "      <td>https://api.spotify.com/v1/audio-analysis/2fOm...</td>\n",
              "      <td>4.037500</td>\n",
              "      <td>4</td>\n",
              "      <td>spotify:artist:458aS6ALc3QkzwfR5USt34</td>\n",
              "      <td>[la indie, modern alternative rock, modern roc...</td>\n",
              "    </tr>\n",
              "    <tr>\n",
              "      <th>1</th>\n",
              "      <td>39bpQHvHkE0K7UUD2HL9oI</td>\n",
              "      <td>Cocoon</td>\n",
              "      <td>Cocoon</td>\n",
              "      <td>Milky Chance</td>\n",
              "      <td>False</td>\n",
              "      <td>0</td>\n",
              "      <td>0.732</td>\n",
              "      <td>0.708</td>\n",
              "      <td>10</td>\n",
              "      <td>-5.978</td>\n",
              "      <td>...</td>\n",
              "      <td>0.749</td>\n",
              "      <td>114.033</td>\n",
              "      <td>audio_features</td>\n",
              "      <td>spotify:track:39bpQHvHkE0K7UUD2HL9oI</td>\n",
              "      <td>https://api.spotify.com/v1/tracks/39bpQHvHkE0K...</td>\n",
              "      <td>https://api.spotify.com/v1/audio-analysis/39bp...</td>\n",
              "      <td>4.233550</td>\n",
              "      <td>4</td>\n",
              "      <td>spotify:artist:1hzfo8twXdOegF3xireCYs</td>\n",
              "      <td>[german pop]</td>\n",
              "    </tr>\n",
              "    <tr>\n",
              "      <th>2</th>\n",
              "      <td>4AyoAGuhE8gydBPrczuhbl</td>\n",
              "      <td>When It Was Now (Deluxe Edition)</td>\n",
              "      <td>Trojans</td>\n",
              "      <td>Atlas Genius</td>\n",
              "      <td>False</td>\n",
              "      <td>50</td>\n",
              "      <td>0.721</td>\n",
              "      <td>0.822</td>\n",
              "      <td>7</td>\n",
              "      <td>-4.843</td>\n",
              "      <td>...</td>\n",
              "      <td>0.536</td>\n",
              "      <td>140.002</td>\n",
              "      <td>audio_features</td>\n",
              "      <td>spotify:track:4AyoAGuhE8gydBPrczuhbl</td>\n",
              "      <td>https://api.spotify.com/v1/tracks/4AyoAGuhE8gy...</td>\n",
              "      <td>https://api.spotify.com/v1/audio-analysis/4Ayo...</td>\n",
              "      <td>3.623117</td>\n",
              "      <td>4</td>\n",
              "      <td>spotify:artist:42vg2T0Xg9yPaAgogJzoQH</td>\n",
              "      <td>[indie poptimism, indietronica, modern alterna...</td>\n",
              "    </tr>\n",
              "    <tr>\n",
              "      <th>3</th>\n",
              "      <td>5hc71nKsUgtwQ3z52KEKQk</td>\n",
              "      <td>I like it when you sleep, for you are so beaut...</td>\n",
              "      <td>Somebody Else</td>\n",
              "      <td>The 1975</td>\n",
              "      <td>True</td>\n",
              "      <td>74</td>\n",
              "      <td>0.610</td>\n",
              "      <td>0.788</td>\n",
              "      <td>0</td>\n",
              "      <td>-5.724</td>\n",
              "      <td>...</td>\n",
              "      <td>0.472</td>\n",
              "      <td>101.045</td>\n",
              "      <td>audio_features</td>\n",
              "      <td>spotify:track:5hc71nKsUgtwQ3z52KEKQk</td>\n",
              "      <td>https://api.spotify.com/v1/tracks/5hc71nKsUgtw...</td>\n",
              "      <td>https://api.spotify.com/v1/audio-analysis/5hc7...</td>\n",
              "      <td>5.792000</td>\n",
              "      <td>4</td>\n",
              "      <td>spotify:artist:3mIj9lX2MWuHmhNCA7LSCW</td>\n",
              "      <td>[modern alternative rock, modern rock, pop, rock]</td>\n",
              "    </tr>\n",
              "    <tr>\n",
              "      <th>4</th>\n",
              "      <td>2JHBMVs8E7bJJBLkXpKgHn</td>\n",
              "      <td>Babel</td>\n",
              "      <td>I Will Wait</td>\n",
              "      <td>Mumford &amp; Sons</td>\n",
              "      <td>False</td>\n",
              "      <td>0</td>\n",
              "      <td>0.481</td>\n",
              "      <td>0.766</td>\n",
              "      <td>1</td>\n",
              "      <td>-5.208</td>\n",
              "      <td>...</td>\n",
              "      <td>0.436</td>\n",
              "      <td>131.143</td>\n",
              "      <td>audio_features</td>\n",
              "      <td>spotify:track:2JHBMVs8E7bJJBLkXpKgHn</td>\n",
              "      <td>https://api.spotify.com/v1/tracks/2JHBMVs8E7bJ...</td>\n",
              "      <td>https://api.spotify.com/v1/audio-analysis/2JHB...</td>\n",
              "      <td>4.612000</td>\n",
              "      <td>4</td>\n",
              "      <td>spotify:artist:3gd8FJtBJtkRxdfbTu19U2</td>\n",
              "      <td>[modern folk rock, modern rock, pop rock, stom...</td>\n",
              "    </tr>\n",
              "  </tbody>\n",
              "</table>\n",
              "<p>5 rows × 25 columns</p>\n",
              "</div>\n",
              "      <button class=\"colab-df-convert\" onclick=\"convertToInteractive('df-06284ce4-4313-445c-a3a6-d208a5972a26')\"\n",
              "              title=\"Convert this dataframe to an interactive table.\"\n",
              "              style=\"display:none;\">\n",
              "        \n",
              "  <svg xmlns=\"http://www.w3.org/2000/svg\" height=\"24px\"viewBox=\"0 0 24 24\"\n",
              "       width=\"24px\">\n",
              "    <path d=\"M0 0h24v24H0V0z\" fill=\"none\"/>\n",
              "    <path d=\"M18.56 5.44l.94 2.06.94-2.06 2.06-.94-2.06-.94-.94-2.06-.94 2.06-2.06.94zm-11 1L8.5 8.5l.94-2.06 2.06-.94-2.06-.94L8.5 2.5l-.94 2.06-2.06.94zm10 10l.94 2.06.94-2.06 2.06-.94-2.06-.94-.94-2.06-.94 2.06-2.06.94z\"/><path d=\"M17.41 7.96l-1.37-1.37c-.4-.4-.92-.59-1.43-.59-.52 0-1.04.2-1.43.59L10.3 9.45l-7.72 7.72c-.78.78-.78 2.05 0 2.83L4 21.41c.39.39.9.59 1.41.59.51 0 1.02-.2 1.41-.59l7.78-7.78 2.81-2.81c.8-.78.8-2.07 0-2.86zM5.41 20L4 18.59l7.72-7.72 1.47 1.35L5.41 20z\"/>\n",
              "  </svg>\n",
              "      </button>\n",
              "      \n",
              "  <style>\n",
              "    .colab-df-container {\n",
              "      display:flex;\n",
              "      flex-wrap:wrap;\n",
              "      gap: 12px;\n",
              "    }\n",
              "\n",
              "    .colab-df-convert {\n",
              "      background-color: #E8F0FE;\n",
              "      border: none;\n",
              "      border-radius: 50%;\n",
              "      cursor: pointer;\n",
              "      display: none;\n",
              "      fill: #1967D2;\n",
              "      height: 32px;\n",
              "      padding: 0 0 0 0;\n",
              "      width: 32px;\n",
              "    }\n",
              "\n",
              "    .colab-df-convert:hover {\n",
              "      background-color: #E2EBFA;\n",
              "      box-shadow: 0px 1px 2px rgba(60, 64, 67, 0.3), 0px 1px 3px 1px rgba(60, 64, 67, 0.15);\n",
              "      fill: #174EA6;\n",
              "    }\n",
              "\n",
              "    [theme=dark] .colab-df-convert {\n",
              "      background-color: #3B4455;\n",
              "      fill: #D2E3FC;\n",
              "    }\n",
              "\n",
              "    [theme=dark] .colab-df-convert:hover {\n",
              "      background-color: #434B5C;\n",
              "      box-shadow: 0px 1px 3px 1px rgba(0, 0, 0, 0.15);\n",
              "      filter: drop-shadow(0px 1px 2px rgba(0, 0, 0, 0.3));\n",
              "      fill: #FFFFFF;\n",
              "    }\n",
              "  </style>\n",
              "\n",
              "      <script>\n",
              "        const buttonEl =\n",
              "          document.querySelector('#df-06284ce4-4313-445c-a3a6-d208a5972a26 button.colab-df-convert');\n",
              "        buttonEl.style.display =\n",
              "          google.colab.kernel.accessAllowed ? 'block' : 'none';\n",
              "\n",
              "        async function convertToInteractive(key) {\n",
              "          const element = document.querySelector('#df-06284ce4-4313-445c-a3a6-d208a5972a26');\n",
              "          const dataTable =\n",
              "            await google.colab.kernel.invokeFunction('convertToInteractive',\n",
              "                                                     [key], {});\n",
              "          if (!dataTable) return;\n",
              "\n",
              "          const docLinkHtml = 'Like what you see? Visit the ' +\n",
              "            '<a target=\"_blank\" href=https://colab.research.google.com/notebooks/data_table.ipynb>data table notebook</a>'\n",
              "            + ' to learn more about interactive tables.';\n",
              "          element.innerHTML = '';\n",
              "          dataTable['output_type'] = 'display_data';\n",
              "          await google.colab.output.renderOutput(dataTable, element);\n",
              "          const docLink = document.createElement('div');\n",
              "          docLink.innerHTML = docLinkHtml;\n",
              "          element.appendChild(docLink);\n",
              "        }\n",
              "      </script>\n",
              "    </div>\n",
              "  </div>\n",
              "  "
            ]
          },
          "metadata": {},
          "execution_count": 38
        }
      ]
    },
    {
      "cell_type": "code",
      "source": [
        "final_df.info()"
      ],
      "metadata": {
        "colab": {
          "base_uri": "https://localhost:8080/"
        },
        "id": "fN3mPINkJgSE",
        "outputId": "b0f14729-4c10-41c7-d18d-005b2d9f7672"
      },
      "execution_count": null,
      "outputs": [
        {
          "output_type": "stream",
          "name": "stdout",
          "text": [
            "<class 'pandas.core.frame.DataFrame'>\n",
            "Int64Index: 100 entries, 0 to 99\n",
            "Data columns (total 25 columns):\n",
            " #   Column            Non-Null Count  Dtype  \n",
            "---  ------            --------------  -----  \n",
            " 0   id                100 non-null    object \n",
            " 1   album             100 non-null    object \n",
            " 2   name              100 non-null    object \n",
            " 3   artist            100 non-null    object \n",
            " 4   explicit          100 non-null    bool   \n",
            " 5   popularity        100 non-null    int64  \n",
            " 6   danceability      100 non-null    float64\n",
            " 7   energy            100 non-null    float64\n",
            " 8   key               100 non-null    int64  \n",
            " 9   loudness          100 non-null    float64\n",
            " 10  mode              100 non-null    int64  \n",
            " 11  speechiness       100 non-null    float64\n",
            " 12  acousticness      100 non-null    float64\n",
            " 13  instrumentalness  100 non-null    float64\n",
            " 14  liveness          100 non-null    float64\n",
            " 15  valence           100 non-null    float64\n",
            " 16  tempo             100 non-null    float64\n",
            " 17  type              100 non-null    object \n",
            " 18  uri               100 non-null    object \n",
            " 19  track_href        100 non-null    object \n",
            " 20  analysis_url      100 non-null    object \n",
            " 21  duration_ms       100 non-null    float64\n",
            " 22  time_signature    100 non-null    int64  \n",
            " 23  artist_id         100 non-null    object \n",
            " 24  generos           100 non-null    object \n",
            "dtypes: bool(1), float64(10), int64(4), object(10)\n",
            "memory usage: 19.6+ KB\n"
          ]
        }
      ]
    },
    {
      "cell_type": "code",
      "source": [
        "#Function for Data Pre-Processing\n",
        "music_features=features_df[['danceability','energy','loudness','speechiness',\n",
        "                            'acousticness','instrumentalness','liveness','valence',\n",
        "                            'tempo','duration_ms']]\n",
        "\n",
        "music_features.describe()\n",
        "#Transforming Data so that all values are in the range 0 to 1\n",
        "#To turn of warning run below command\n",
        "pd.set_option('mode.chained_assignment', None)\n",
        "music_features.loc[:]=min_max_scaler.fit_transform(music_features.loc[:])"
      ],
      "metadata": {
        "id": "F7u16DzqHAGX"
      },
      "execution_count": null,
      "outputs": []
    },
    {
      "cell_type": "code",
      "source": [
        "#Radar Chart with several heads from DataFrame\n",
        "#Creating Radar Chart\n",
        "fig = plt.figure(figsize=(10,10))\n",
        "\n",
        "categories=list(music_features.columns)\n",
        "\n",
        "N=len(categories)\n",
        "\n",
        "value = list(music_features.mean())\n",
        "\n",
        "value+=value[:1]\n",
        "angles = [n/float(N)*2*pi for n in range(N)]\n",
        "angles+= angles[:1]\n",
        "\n",
        "\n",
        "plt.polar(angles,value,color='red')\n",
        "plt.fill(angles,value,alpha=0.7,color='purple')\n",
        "\n",
        "plt.title('Playlist Audio Features', size=20, y=1.05)\n",
        "\n",
        "plt.xticks(angles[:-1],categories,size=15, color='purple')\n",
        "plt.yticks(color='black', size=15)\n",
        "plt.show()"
      ],
      "metadata": {
        "colab": {
          "base_uri": "https://localhost:8080/",
          "height": 630
        },
        "id": "mXsskae1HB4T",
        "outputId": "28888dad-fc1f-45f8-cb5c-0ca6979ab87b"
      },
      "execution_count": null,
      "outputs": [
        {
          "output_type": "display_data",
          "data": {
            "text/plain": [
              "<Figure size 720x720 with 1 Axes>"
            ],
            "image/png": "[encoded data removed]"
          },
          "metadata": {
            "needs_background": "light"
          }
        }
      ]
    },
    {
      "cell_type": "code",
      "source": [
        "print(f'{sp.artist_related_artists(final_df[\"artist_id\"][0])[\"artists\"][0][\"genres\"]}')\n",
        "print(f'{sp.artist_related_artists(final_df[\"artist_id\"][0])[\"artists\"][0][\"name\"]}')"
      ],
      "metadata": {
        "colab": {
          "base_uri": "https://localhost:8080/"
        },
        "id": "en3JydmAHDlM",
        "outputId": "06c45d13-6689-4c7c-d79a-39bac3b1cade"
      },
      "execution_count": null,
      "outputs": [
        {
          "output_type": "stream",
          "name": "stdout",
          "text": [
            "['oakland indie']\n",
            "SWMRS\n"
          ]
        }
      ]
    },
    {
      "cell_type": "code",
      "source": [
        "df_generos = final_df.explode('generos').copy()"
      ],
      "metadata": {
        "id": "R77KmOVkjpOk"
      },
      "execution_count": null,
      "outputs": []
    },
    {
      "cell_type": "code",
      "source": [
        "df_generos.groupby([\"generos\"]).count()['id'].reset_index()"
      ],
      "metadata": {
        "colab": {
          "base_uri": "https://localhost:8080/",
          "height": 423
        },
        "id": "-UZ1Ry6mEaAR",
        "outputId": "0d513ff1-65a0-4bc8-e7bc-49e827795e0b"
      },
      "execution_count": null,
      "outputs": [
        {
          "output_type": "execute_result",
          "data": {
            "text/plain": [
              "                  generos  id\n",
              "0       alternative dance  11\n",
              "1        alternative rock   5\n",
              "2          arkansas indie   1\n",
              "3               austindie   1\n",
              "4   australian indie folk   1\n",
              "..                    ...  ..\n",
              "72       swedish synthpop   1\n",
              "73         tropical house   1\n",
              "74           uk americana   4\n",
              "75             vapor soul   4\n",
              "76       washington indie   1\n",
              "\n",
              "[77 rows x 2 columns]"
            ],
            "text/html": [
              "\n",
              "  <div id=\"df-466f2cfd-b51f-4852-9d38-423eeb0fbc40\">\n",
              "    <div class=\"colab-df-container\">\n",
              "      <div>\n",
              "<style scoped>\n",
              "    .dataframe tbody tr th:only-of-type {\n",
              "        vertical-align: middle;\n",
              "    }\n",
              "\n",
              "    .dataframe tbody tr th {\n",
              "        vertical-align: top;\n",
              "    }\n",
              "\n",
              "    .dataframe thead th {\n",
              "        text-align: right;\n",
              "    }\n",
              "</style>\n",
              "<table border=\"1\" class=\"dataframe\">\n",
              "  <thead>\n",
              "    <tr style=\"text-align: right;\">\n",
              "      <th></th>\n",
              "      <th>generos</th>\n",
              "      <th>id</th>\n",
              "    </tr>\n",
              "  </thead>\n",
              "  <tbody>\n",
              "    <tr>\n",
              "      <th>0</th>\n",
              "      <td>alternative dance</td>\n",
              "      <td>11</td>\n",
              "    </tr>\n",
              "    <tr>\n",
              "      <th>1</th>\n",
              "      <td>alternative rock</td>\n",
              "      <td>5</td>\n",
              "    </tr>\n",
              "    <tr>\n",
              "      <th>2</th>\n",
              "      <td>arkansas indie</td>\n",
              "      <td>1</td>\n",
              "    </tr>\n",
              "    <tr>\n",
              "      <th>3</th>\n",
              "      <td>austindie</td>\n",
              "      <td>1</td>\n",
              "    </tr>\n",
              "    <tr>\n",
              "      <th>4</th>\n",
              "      <td>australian indie folk</td>\n",
              "      <td>1</td>\n",
              "    </tr>\n",
              "    <tr>\n",
              "      <th>...</th>\n",
              "      <td>...</td>\n",
              "      <td>...</td>\n",
              "    </tr>\n",
              "    <tr>\n",
              "      <th>72</th>\n",
              "      <td>swedish synthpop</td>\n",
              "      <td>1</td>\n",
              "    </tr>\n",
              "    <tr>\n",
              "      <th>73</th>\n",
              "      <td>tropical house</td>\n",
              "      <td>1</td>\n",
              "    </tr>\n",
              "    <tr>\n",
              "      <th>74</th>\n",
              "      <td>uk americana</td>\n",
              "      <td>4</td>\n",
              "    </tr>\n",
              "    <tr>\n",
              "      <th>75</th>\n",
              "      <td>vapor soul</td>\n",
              "      <td>4</td>\n",
              "    </tr>\n",
              "    <tr>\n",
              "      <th>76</th>\n",
              "      <td>washington indie</td>\n",
              "      <td>1</td>\n",
              "    </tr>\n",
              "  </tbody>\n",
              "</table>\n",
              "<p>77 rows × 2 columns</p>\n",
              "</div>\n",
              "      <button class=\"colab-df-convert\" onclick=\"convertToInteractive('df-466f2cfd-b51f-4852-9d38-423eeb0fbc40')\"\n",
              "              title=\"Convert this dataframe to an interactive table.\"\n",
              "              style=\"display:none;\">\n",
              "        \n",
              "  <svg xmlns=\"http://www.w3.org/2000/svg\" height=\"24px\"viewBox=\"0 0 24 24\"\n",
              "       width=\"24px\">\n",
              "    <path d=\"M0 0h24v24H0V0z\" fill=\"none\"/>\n",
              "    <path d=\"M18.56 5.44l.94 2.06.94-2.06 2.06-.94-2.06-.94-.94-2.06-.94 2.06-2.06.94zm-11 1L8.5 8.5l.94-2.06 2.06-.94-2.06-.94L8.5 2.5l-.94 2.06-2.06.94zm10 10l.94 2.06.94-2.06 2.06-.94-2.06-.94-.94-2.06-.94 2.06-2.06.94z\"/><path d=\"M17.41 7.96l-1.37-1.37c-.4-.4-.92-.59-1.43-.59-.52 0-1.04.2-1.43.59L10.3 9.45l-7.72 7.72c-.78.78-.78 2.05 0 2.83L4 21.41c.39.39.9.59 1.41.59.51 0 1.02-.2 1.41-.59l7.78-7.78 2.81-2.81c.8-.78.8-2.07 0-2.86zM5.41 20L4 18.59l7.72-7.72 1.47 1.35L5.41 20z\"/>\n",
              "  </svg>\n",
              "      </button>\n",
              "      \n",
              "  <style>\n",
              "    .colab-df-container {\n",
              "      display:flex;\n",
              "      flex-wrap:wrap;\n",
              "      gap: 12px;\n",
              "    }\n",
              "\n",
              "    .colab-df-convert {\n",
              "      background-color: #E8F0FE;\n",
              "      border: none;\n",
              "      border-radius: 50%;\n",
              "      cursor: pointer;\n",
              "      display: none;\n",
              "      fill: #1967D2;\n",
              "      height: 32px;\n",
              "      padding: 0 0 0 0;\n",
              "      width: 32px;\n",
              "    }\n",
              "\n",
              "    .colab-df-convert:hover {\n",
              "      background-color: #E2EBFA;\n",
              "      box-shadow: 0px 1px 2px rgba(60, 64, 67, 0.3), 0px 1px 3px 1px rgba(60, 64, 67, 0.15);\n",
              "      fill: #174EA6;\n",
              "    }\n",
              "\n",
              "    [theme=dark] .colab-df-convert {\n",
              "      background-color: #3B4455;\n",
              "      fill: #D2E3FC;\n",
              "    }\n",
              "\n",
              "    [theme=dark] .colab-df-convert:hover {\n",
              "      background-color: #434B5C;\n",
              "      box-shadow: 0px 1px 3px 1px rgba(0, 0, 0, 0.15);\n",
              "      filter: drop-shadow(0px 1px 2px rgba(0, 0, 0, 0.3));\n",
              "      fill: #FFFFFF;\n",
              "    }\n",
              "  </style>\n",
              "\n",
              "      <script>\n",
              "        const buttonEl =\n",
              "          document.querySelector('#df-466f2cfd-b51f-4852-9d38-423eeb0fbc40 button.colab-df-convert');\n",
              "        buttonEl.style.display =\n",
              "          google.colab.kernel.accessAllowed ? 'block' : 'none';\n",
              "\n",
              "        async function convertToInteractive(key) {\n",
              "          const element = document.querySelector('#df-466f2cfd-b51f-4852-9d38-423eeb0fbc40');\n",
              "          const dataTable =\n",
              "            await google.colab.kernel.invokeFunction('convertToInteractive',\n",
              "                                                     [key], {});\n",
              "          if (!dataTable) return;\n",
              "\n",
              "          const docLinkHtml = 'Like what you see? Visit the ' +\n",
              "            '<a target=\"_blank\" href=https://colab.research.google.com/notebooks/data_table.ipynb>data table notebook</a>'\n",
              "            + ' to learn more about interactive tables.';\n",
              "          element.innerHTML = '';\n",
              "          dataTable['output_type'] = 'display_data';\n",
              "          await google.colab.output.renderOutput(dataTable, element);\n",
              "          const docLink = document.createElement('div');\n",
              "          docLink.innerHTML = docLinkHtml;\n",
              "          element.appendChild(docLink);\n",
              "        }\n",
              "      </script>\n",
              "    </div>\n",
              "  </div>\n",
              "  "
            ]
          },
          "metadata": {},
          "execution_count": 44
        }
      ]
    },
    {
      "cell_type": "code",
      "source": [
        "plt.figure(figsize=(15,8))\n",
        "\n",
        "df = (df_generos.groupby([\"generos\"]).count()['id'].reset_index())\n",
        "to_graph = df[df['id']>=3]\n",
        "\n",
        "# Reorder it following the values:\n",
        "ordered_df = to_graph.sort_values(by='id')\n",
        "my_range=range(1,len(to_graph.index)+1)\n",
        "\n",
        "# Make the plot\n",
        "plt.stem(ordered_df['id'])\n",
        "plt.xticks( my_range, ordered_df['generos'])\n",
        "plt.xticks(rotation=45, ha='right')"
      ],
      "metadata": {
        "colab": {
          "base_uri": "https://localhost:8080/",
          "height": 679
        },
        "id": "6K7TvdBlswDc",
        "outputId": "2b91c1f4-d213-4658-b62b-66388fe71917"
      },
      "execution_count": null,
      "outputs": [
        {
          "output_type": "stream",
          "name": "stderr",
          "text": [
            "/usr/local/lib/python3.7/dist-packages/ipykernel_launcher.py:11: UserWarning: In Matplotlib 3.3 individual lines on a stem plot will be added as a LineCollection instead of individual lines. This significantly improves the performance of a stem plot. To remove this warning and switch to the new behaviour, set the \"use_line_collection\" keyword argument to True.\n",
            "  # This is added back by InteractiveShellApp.init_path()\n"
          ]
        },
        {
          "output_type": "execute_result",
          "data": {
            "text/plain": [
              "(array([ 1,  2,  3,  4,  5,  6,  7,  8,  9, 10, 11, 12, 13, 14, 15, 16, 17,\n",
              "        18, 19, 20, 21, 22, 23, 24, 25, 26, 27, 28, 29, 30, 31, 32, 33]),\n",
              " <a list of 33 Text major ticklabel objects>)"
            ]
          },
          "metadata": {},
          "execution_count": 45
        },
        {
          "output_type": "display_data",
          "data": {
            "text/plain": [
              "<Figure size 1080x576 with 1 Axes>"
            ],
            "image/png": "[encoded data removed]"
          },
          "metadata": {
            "needs_background": "light"
          }
        }
      ]
    },
    {
      "cell_type": "code",
      "source": [
        "sp.artist_related_artists(final_df[\"artist_id\"][0])[\"artists\"][2][\"name\"]"
      ],
      "metadata": {
        "colab": {
          "base_uri": "https://localhost:8080/",
          "height": 36
        },
        "id": "LrIckMm2v5iL",
        "outputId": "cf84d591-7e6a-4c69-caec-09864e9597c4"
      },
      "execution_count": null,
      "outputs": [
        {
          "output_type": "execute_result",
          "data": {
            "text/plain": [
              "'Anarbor'"
            ],
            "application/vnd.google.colaboratory.intrinsic+json": {
              "type": "string"
            }
          },
          "metadata": {},
          "execution_count": 46
        }
      ]
    },
    {
      "cell_type": "code",
      "source": [
        "art1 = []\n",
        "idd1 = []\n",
        "art2 = []\n",
        "idd2 = []\n",
        "art3 = []\n",
        "idd3 = []\n",
        "\n",
        "for i in range(final_df.shape[0]):\n",
        "\n",
        "  ar1=sp.artist_related_artists(final_df[\"artist_id\"][i])[\"artists\"][0][\"name\"]\n",
        "  ar2=sp.artist_related_artists(final_df[\"artist_id\"][i])[\"artists\"][1][\"name\"]\n",
        "  ar3=sp.artist_related_artists(final_df[\"artist_id\"][i])[\"artists\"][2][\"name\"]\n",
        "  id1 = sp.artist_related_artists(final_df[\"artist_id\"][i])[\"artists\"][0][\"id\"]\n",
        "  id2 = sp.artist_related_artists(final_df[\"artist_id\"][i])[\"artists\"][1][\"id\"]\n",
        "  id3 = sp.artist_related_artists(final_df[\"artist_id\"][i])[\"artists\"][2][\"id\"]\n",
        "  art1.append(ar1)\n",
        "  art2.append(ar2)\n",
        "  art3.append(ar3)\n",
        "  idd1.append(id1)\n",
        "  idd2.append(id2)\n",
        "  idd3.append(id3)\n",
        "\n",
        "\n",
        "final_df['Art_recomendado1'] = art1\n",
        "final_df['IDArt1'] = idd1\n",
        "final_df['Art_recomendado2'] = art2\n",
        "final_df['IDArt2'] = idd2\n",
        "final_df['Art_recomendado3'] = art3\n",
        "final_df['IDArt3'] = idd3"
      ],
      "metadata": {
        "id": "IMAqzinYwZ1r"
      },
      "execution_count": null,
      "outputs": []
    },
    {
      "cell_type": "code",
      "source": [
        "final_df.head()"
      ],
      "metadata": {
        "colab": {
          "base_uri": "https://localhost:8080/",
          "height": 664
        },
        "id": "CpdKAUa0nHtb",
        "outputId": "e610c4e2-0c72-459f-f7eb-479086fb8239"
      },
      "execution_count": null,
      "outputs": [
        {
          "output_type": "execute_result",
          "data": {
            "text/plain": [
              "                       id                                              album  \\\n",
              "0  2fOmsaSjCncWDVJ1N8S2TZ                                  We Are the Wrecks   \n",
              "1  39bpQHvHkE0K7UUD2HL9oI                                             Cocoon   \n",
              "2  4AyoAGuhE8gydBPrczuhbl                   When It Was Now (Deluxe Edition)   \n",
              "3  5hc71nKsUgtwQ3z52KEKQk  I like it when you sleep, for you are so beaut...   \n",
              "4  2JHBMVs8E7bJJBLkXpKgHn                                              Babel   \n",
              "\n",
              "            name          artist  explicit  popularity  danceability  energy  \\\n",
              "0  Favorite Liar      The Wrecks     False           0         0.643   0.737   \n",
              "1         Cocoon    Milky Chance     False           0         0.732   0.708   \n",
              "2        Trojans    Atlas Genius     False          50         0.721   0.822   \n",
              "3  Somebody Else        The 1975      True          74         0.610   0.788   \n",
              "4    I Will Wait  Mumford & Sons     False           0         0.481   0.766   \n",
              "\n",
              "   key  loudness  ...  duration_ms  time_signature  \\\n",
              "0    9    -3.467  ...     4.037500               4   \n",
              "1   10    -5.978  ...     4.233550               4   \n",
              "2    7    -4.843  ...     3.623117               4   \n",
              "3    0    -5.724  ...     5.792000               4   \n",
              "4    1    -5.208  ...     4.612000               4   \n",
              "\n",
              "                               artist_id  \\\n",
              "0  spotify:artist:458aS6ALc3QkzwfR5USt34   \n",
              "1  spotify:artist:1hzfo8twXdOegF3xireCYs   \n",
              "2  spotify:artist:42vg2T0Xg9yPaAgogJzoQH   \n",
              "3  spotify:artist:3mIj9lX2MWuHmhNCA7LSCW   \n",
              "4  spotify:artist:3gd8FJtBJtkRxdfbTu19U2   \n",
              "\n",
              "                                             generos    Art_recomendado1  \\\n",
              "0  [la indie, modern alternative rock, modern roc...               SWMRS   \n",
              "1                                       [german pop]         FIL BO RIVA   \n",
              "2  [indie poptimism, indietronica, modern alterna...           St. Lucia   \n",
              "3  [modern alternative rock, modern rock, pop, rock]      Declan McKenna   \n",
              "4  [modern folk rock, modern rock, pop rock, stom...  Noah And The Whale   \n",
              "\n",
              "                   IDArt1     Art_recomendado2                  IDArt2  \\\n",
              "0  7dLkuQHF2ijbK6jiLFyIWM           Waterparks  3QaxveoTiMetZCMp1sftiu   \n",
              "1  3JE0uoggWwwYG6rSSJk0HN        Lewis Del Mar  2oqwwcM17wrP9hBD25zKSR   \n",
              "2  5WId4o5jdGVhptNU0uqKxu     Youngblood Hawke  6VXZCpbkwm0W0aPjQR1t4K   \n",
              "3  2D4FOOOtWycb3Aw9nY5n3c   The Japanese House  3IunaFjvNKj98JW89JYv9u   \n",
              "4  0aeLcja6hKzb7Uz2ou7ulP  Of Monsters and Men  4dwdTW1Lfiq0cM8nBAqIIz   \n",
              "\n",
              "                     Art_recomendado3                  IDArt3  \n",
              "0                             Anarbor  09J4zbHHwNNlN2tfgJIg21  \n",
              "1                   Von Wegen Lisbeth  0uNoScPvcAL4krqNZfeJBq  \n",
              "2                   The Royal Concept  7LAucJAvbQa7ZIA0qP8YI2  \n",
              "3                            Bad Suns  0YhUSm86okLWldQVwJkLlP  \n",
              "4  Edward Sharpe & The Magnetic Zeros  7giUHu5pv6YTZgSkxxCcgh  \n",
              "\n",
              "[5 rows x 31 columns]"
            ],
            "text/html": [
              "\n",
              "  <div id=\"df-2848f79e-7dd2-45c3-a34b-b8ba3ce74ecd\">\n",
              "    <div class=\"colab-df-container\">\n",
              "      <div>\n",
              "<style scoped>\n",
              "    .dataframe tbody tr th:only-of-type {\n",
              "        vertical-align: middle;\n",
              "    }\n",
              "\n",
              "    .dataframe tbody tr th {\n",
              "        vertical-align: top;\n",
              "    }\n",
              "\n",
              "    .dataframe thead th {\n",
              "        text-align: right;\n",
              "    }\n",
              "</style>\n",
              "<table border=\"1\" class=\"dataframe\">\n",
              "  <thead>\n",
              "    <tr style=\"text-align: right;\">\n",
              "      <th></th>\n",
              "      <th>id</th>\n",
              "      <th>album</th>\n",
              "      <th>name</th>\n",
              "      <th>artist</th>\n",
              "      <th>explicit</th>\n",
              "      <th>popularity</th>\n",
              "      <th>danceability</th>\n",
              "      <th>energy</th>\n",
              "      <th>key</th>\n",
              "      <th>loudness</th>\n",
              "      <th>...</th>\n",
              "      <th>duration_ms</th>\n",
              "      <th>time_signature</th>\n",
              "      <th>artist_id</th>\n",
              "      <th>generos</th>\n",
              "      <th>Art_recomendado1</th>\n",
              "      <th>IDArt1</th>\n",
              "      <th>Art_recomendado2</th>\n",
              "      <th>IDArt2</th>\n",
              "      <th>Art_recomendado3</th>\n",
              "      <th>IDArt3</th>\n",
              "    </tr>\n",
              "  </thead>\n",
              "  <tbody>\n",
              "    <tr>\n",
              "      <th>0</th>\n",
              "      <td>2fOmsaSjCncWDVJ1N8S2TZ</td>\n",
              "      <td>We Are the Wrecks</td>\n",
              "      <td>Favorite Liar</td>\n",
              "      <td>The Wrecks</td>\n",
              "      <td>False</td>\n",
              "      <td>0</td>\n",
              "      <td>0.643</td>\n",
              "      <td>0.737</td>\n",
              "      <td>9</td>\n",
              "      <td>-3.467</td>\n",
              "      <td>...</td>\n",
              "      <td>4.037500</td>\n",
              "      <td>4</td>\n",
              "      <td>spotify:artist:458aS6ALc3QkzwfR5USt34</td>\n",
              "      <td>[la indie, modern alternative rock, modern roc...</td>\n",
              "      <td>SWMRS</td>\n",
              "      <td>7dLkuQHF2ijbK6jiLFyIWM</td>\n",
              "      <td>Waterparks</td>\n",
              "      <td>3QaxveoTiMetZCMp1sftiu</td>\n",
              "      <td>Anarbor</td>\n",
              "      <td>09J4zbHHwNNlN2tfgJIg21</td>\n",
              "    </tr>\n",
              "    <tr>\n",
              "      <th>1</th>\n",
              "      <td>39bpQHvHkE0K7UUD2HL9oI</td>\n",
              "      <td>Cocoon</td>\n",
              "      <td>Cocoon</td>\n",
              "      <td>Milky Chance</td>\n",
              "      <td>False</td>\n",
              "      <td>0</td>\n",
              "      <td>0.732</td>\n",
              "      <td>0.708</td>\n",
              "      <td>10</td>\n",
              "      <td>-5.978</td>\n",
              "      <td>...</td>\n",
              "      <td>4.233550</td>\n",
              "      <td>4</td>\n",
              "      <td>spotify:artist:1hzfo8twXdOegF3xireCYs</td>\n",
              "      <td>[german pop]</td>\n",
              "      <td>FIL BO RIVA</td>\n",
              "      <td>3JE0uoggWwwYG6rSSJk0HN</td>\n",
              "      <td>Lewis Del Mar</td>\n",
              "      <td>2oqwwcM17wrP9hBD25zKSR</td>\n",
              "      <td>Von Wegen Lisbeth</td>\n",
              "      <td>0uNoScPvcAL4krqNZfeJBq</td>\n",
              "    </tr>\n",
              "    <tr>\n",
              "      <th>2</th>\n",
              "      <td>4AyoAGuhE8gydBPrczuhbl</td>\n",
              "      <td>When It Was Now (Deluxe Edition)</td>\n",
              "      <td>Trojans</td>\n",
              "      <td>Atlas Genius</td>\n",
              "      <td>False</td>\n",
              "      <td>50</td>\n",
              "      <td>0.721</td>\n",
              "      <td>0.822</td>\n",
              "      <td>7</td>\n",
              "      <td>-4.843</td>\n",
              "      <td>...</td>\n",
              "      <td>3.623117</td>\n",
              "      <td>4</td>\n",
              "      <td>spotify:artist:42vg2T0Xg9yPaAgogJzoQH</td>\n",
              "      <td>[indie poptimism, indietronica, modern alterna...</td>\n",
              "      <td>St. Lucia</td>\n",
              "      <td>5WId4o5jdGVhptNU0uqKxu</td>\n",
              "      <td>Youngblood Hawke</td>\n",
              "      <td>6VXZCpbkwm0W0aPjQR1t4K</td>\n",
              "      <td>The Royal Concept</td>\n",
              "      <td>7LAucJAvbQa7ZIA0qP8YI2</td>\n",
              "    </tr>\n",
              "    <tr>\n",
              "      <th>3</th>\n",
              "      <td>5hc71nKsUgtwQ3z52KEKQk</td>\n",
              "      <td>I like it when you sleep, for you are so beaut...</td>\n",
              "      <td>Somebody Else</td>\n",
              "      <td>The 1975</td>\n",
              "      <td>True</td>\n",
              "      <td>74</td>\n",
              "      <td>0.610</td>\n",
              "      <td>0.788</td>\n",
              "      <td>0</td>\n",
              "      <td>-5.724</td>\n",
              "      <td>...</td>\n",
              "      <td>5.792000</td>\n",
              "      <td>4</td>\n",
              "      <td>spotify:artist:3mIj9lX2MWuHmhNCA7LSCW</td>\n",
              "      <td>[modern alternative rock, modern rock, pop, rock]</td>\n",
              "      <td>Declan McKenna</td>\n",
              "      <td>2D4FOOOtWycb3Aw9nY5n3c</td>\n",
              "      <td>The Japanese House</td>\n",
              "      <td>3IunaFjvNKj98JW89JYv9u</td>\n",
              "      <td>Bad Suns</td>\n",
              "      <td>0YhUSm86okLWldQVwJkLlP</td>\n",
              "    </tr>\n",
              "    <tr>\n",
              "      <th>4</th>\n",
              "      <td>2JHBMVs8E7bJJBLkXpKgHn</td>\n",
              "      <td>Babel</td>\n",
              "      <td>I Will Wait</td>\n",
              "      <td>Mumford &amp; Sons</td>\n",
              "      <td>False</td>\n",
              "      <td>0</td>\n",
              "      <td>0.481</td>\n",
              "      <td>0.766</td>\n",
              "      <td>1</td>\n",
              "      <td>-5.208</td>\n",
              "      <td>...</td>\n",
              "      <td>4.612000</td>\n",
              "      <td>4</td>\n",
              "      <td>spotify:artist:3gd8FJtBJtkRxdfbTu19U2</td>\n",
              "      <td>[modern folk rock, modern rock, pop rock, stom...</td>\n",
              "      <td>Noah And The Whale</td>\n",
              "      <td>0aeLcja6hKzb7Uz2ou7ulP</td>\n",
              "      <td>Of Monsters and Men</td>\n",
              "      <td>4dwdTW1Lfiq0cM8nBAqIIz</td>\n",
              "      <td>Edward Sharpe &amp; The Magnetic Zeros</td>\n",
              "      <td>7giUHu5pv6YTZgSkxxCcgh</td>\n",
              "    </tr>\n",
              "  </tbody>\n",
              "</table>\n",
              "<p>5 rows × 31 columns</p>\n",
              "</div>\n",
              "      <button class=\"colab-df-convert\" onclick=\"convertToInteractive('df-2848f79e-7dd2-45c3-a34b-b8ba3ce74ecd')\"\n",
              "              title=\"Convert this dataframe to an interactive table.\"\n",
              "              style=\"display:none;\">\n",
              "        \n",
              "  <svg xmlns=\"http://www.w3.org/2000/svg\" height=\"24px\"viewBox=\"0 0 24 24\"\n",
              "       width=\"24px\">\n",
              "    <path d=\"M0 0h24v24H0V0z\" fill=\"none\"/>\n",
              "    <path d=\"M18.56 5.44l.94 2.06.94-2.06 2.06-.94-2.06-.94-.94-2.06-.94 2.06-2.06.94zm-11 1L8.5 8.5l.94-2.06 2.06-.94-2.06-.94L8.5 2.5l-.94 2.06-2.06.94zm10 10l.94 2.06.94-2.06 2.06-.94-2.06-.94-.94-2.06-.94 2.06-2.06.94z\"/><path d=\"M17.41 7.96l-1.37-1.37c-.4-.4-.92-.59-1.43-.59-.52 0-1.04.2-1.43.59L10.3 9.45l-7.72 7.72c-.78.78-.78 2.05 0 2.83L4 21.41c.39.39.9.59 1.41.59.51 0 1.02-.2 1.41-.59l7.78-7.78 2.81-2.81c.8-.78.8-2.07 0-2.86zM5.41 20L4 18.59l7.72-7.72 1.47 1.35L5.41 20z\"/>\n",
              "  </svg>\n",
              "      </button>\n",
              "      \n",
              "  <style>\n",
              "    .colab-df-container {\n",
              "      display:flex;\n",
              "      flex-wrap:wrap;\n",
              "      gap: 12px;\n",
              "    }\n",
              "\n",
              "    .colab-df-convert {\n",
              "      background-color: #E8F0FE;\n",
              "      border: none;\n",
              "      border-radius: 50%;\n",
              "      cursor: pointer;\n",
              "      display: none;\n",
              "      fill: #1967D2;\n",
              "      height: 32px;\n",
              "      padding: 0 0 0 0;\n",
              "      width: 32px;\n",
              "    }\n",
              "\n",
              "    .colab-df-convert:hover {\n",
              "      background-color: #E2EBFA;\n",
              "      box-shadow: 0px 1px 2px rgba(60, 64, 67, 0.3), 0px 1px 3px 1px rgba(60, 64, 67, 0.15);\n",
              "      fill: #174EA6;\n",
              "    }\n",
              "\n",
              "    [theme=dark] .colab-df-convert {\n",
              "      background-color: #3B4455;\n",
              "      fill: #D2E3FC;\n",
              "    }\n",
              "\n",
              "    [theme=dark] .colab-df-convert:hover {\n",
              "      background-color: #434B5C;\n",
              "      box-shadow: 0px 1px 3px 1px rgba(0, 0, 0, 0.15);\n",
              "      filter: drop-shadow(0px 1px 2px rgba(0, 0, 0, 0.3));\n",
              "      fill: #FFFFFF;\n",
              "    }\n",
              "  </style>\n",
              "\n",
              "      <script>\n",
              "        const buttonEl =\n",
              "          document.querySelector('#df-2848f79e-7dd2-45c3-a34b-b8ba3ce74ecd button.colab-df-convert');\n",
              "        buttonEl.style.display =\n",
              "          google.colab.kernel.accessAllowed ? 'block' : 'none';\n",
              "\n",
              "        async function convertToInteractive(key) {\n",
              "          const element = document.querySelector('#df-2848f79e-7dd2-45c3-a34b-b8ba3ce74ecd');\n",
              "          const dataTable =\n",
              "            await google.colab.kernel.invokeFunction('convertToInteractive',\n",
              "                                                     [key], {});\n",
              "          if (!dataTable) return;\n",
              "\n",
              "          const docLinkHtml = 'Like what you see? Visit the ' +\n",
              "            '<a target=\"_blank\" href=https://colab.research.google.com/notebooks/data_table.ipynb>data table notebook</a>'\n",
              "            + ' to learn more about interactive tables.';\n",
              "          element.innerHTML = '';\n",
              "          dataTable['output_type'] = 'display_data';\n",
              "          await google.colab.output.renderOutput(dataTable, element);\n",
              "          const docLink = document.createElement('div');\n",
              "          docLink.innerHTML = docLinkHtml;\n",
              "          element.appendChild(docLink);\n",
              "        }\n",
              "      </script>\n",
              "    </div>\n",
              "  </div>\n",
              "  "
            ]
          },
          "metadata": {},
          "execution_count": 48
        }
      ]
    },
    {
      "cell_type": "code",
      "source": [
        "print(f'{final_df[\"Art_recomendado1\"].value_counts().head(5)}')\n",
        "print(f'{final_df[\"IDArt1\"].value_counts().head(5)}')\n",
        "print(f'{final_df[\"Art_recomendado2\"].value_counts().head(5)}')\n",
        "print(f'{final_df[\"IDArt2\"].value_counts().head(5)}')\n",
        "print(f'{final_df[\"Art_recomendado3\"].value_counts().head(5)}')\n",
        "print(f'{final_df[\"IDArt3\"].value_counts().head(5)}')"
      ],
      "metadata": {
        "colab": {
          "base_uri": "https://localhost:8080/"
        },
        "id": "vDTTk_SToeXD",
        "outputId": "69082b2f-afcc-44f9-e5a0-8ac5b245f5f0"
      },
      "execution_count": null,
      "outputs": [
        {
          "output_type": "stream",
          "name": "stdout",
          "text": [
            "Grouplove              11\n",
            "Passion Pit             5\n",
            "American Authors        5\n",
            "Noah And The Whale      4\n",
            "Bombay Bicycle Club     4\n",
            "Name: Art_recomendado1, dtype: int64\n",
            "3kVUvbeRdcrqQ3oHk5hPdx    11\n",
            "7gjAu1qr5C2grXeQFFOGeh     5\n",
            "0MlOPi3zIDMVrfA9R04Fe3     5\n",
            "0aeLcja6hKzb7Uz2ou7ulP     4\n",
            "3pTE9iaJTkWns3mxpNQlJV     4\n",
            "Name: IDArt1, dtype: int64\n",
            "Passion Pit            8\n",
            "Of Monsters and Men    6\n",
            "WALK THE MOON          5\n",
            "Grizfolk               5\n",
            "Cold War Kids          4\n",
            "Name: Art_recomendado2, dtype: int64\n",
            "7gjAu1qr5C2grXeQFFOGeh    8\n",
            "4dwdTW1Lfiq0cM8nBAqIIz    6\n",
            "6DIS6PRrLS3wbnZsf7vYic    5\n",
            "6Xa4nbrSTfbioA4lLShbjh    5\n",
            "6VDdCwrBM4qQaGxoAyxyJC    4\n",
            "Name: IDArt2, dtype: int64\n",
            "Young the Giant          6\n",
            "Fitz and The Tantrums    5\n",
            "Local Natives            5\n",
            "Miike Snow               4\n",
            "The Wombats              4\n",
            "Name: Art_recomendado3, dtype: int64\n",
            "4j56EQDQu5XnL7R3E9iFJT    6\n",
            "4AcHt3JxKy59IX7JNNlZn4    5\n",
            "75dQReiBOHN37fQgWQrIAJ    5\n",
            "4l1cKWYW591xnwEGxpUg3J    4\n",
            "0Ya43ZKWHTKkAbkoJJkwIB    4\n",
            "Name: IDArt3, dtype: int64\n"
          ]
        }
      ]
    },
    {
      "cell_type": "code",
      "source": [
        "print(f'{final_df[\"Art_recomendado1\"].value_counts().head(5)}')\n",
        "#print(f'{final_df[\"IDArt1\"].value_counts().head(5)}')\n",
        "print(f'{final_df[\"Art_recomendado2\"].value_counts().head(5)}')\n",
        "#print(f'{final_df[\"IDArt2\"].value_counts().head(5)}')\n",
        "print(f'{final_df[\"Art_recomendado3\"].value_counts().head(5)}')\n",
        "#print(f'{final_df[\"IDArt3\"].value_counts().head(5)}')"
      ],
      "metadata": {
        "colab": {
          "base_uri": "https://localhost:8080/"
        },
        "id": "6Nuj33_BZPnS",
        "outputId": "b0f80b2d-7cf5-4992-8d1c-d4abc31f0c36"
      },
      "execution_count": null,
      "outputs": [
        {
          "output_type": "stream",
          "name": "stdout",
          "text": [
            "Grouplove              11\n",
            "Passion Pit             5\n",
            "American Authors        5\n",
            "Noah And The Whale      4\n",
            "Bombay Bicycle Club     4\n",
            "Name: Art_recomendado1, dtype: int64\n",
            "Passion Pit            8\n",
            "Of Monsters and Men    6\n",
            "WALK THE MOON          5\n",
            "Grizfolk               5\n",
            "Cold War Kids          4\n",
            "Name: Art_recomendado2, dtype: int64\n",
            "Young the Giant          6\n",
            "Fitz and The Tantrums    5\n",
            "Local Natives            5\n",
            "Miike Snow               4\n",
            "The Wombats              4\n",
            "Name: Art_recomendado3, dtype: int64\n"
          ]
        }
      ]
    },
    {
      "cell_type": "code",
      "source": [
        "song = sp.artist_top_tracks(\"4njdEjTnLfcGImKZu1iSrz\", country='US')['tracks'][0][\"id\"]\n",
        "print(f'{sp.track(song, market=None)[\"name\"]}')\n",
        "print(f'{sp.track(song, market=None)[\"album\"][\"artists\"][0][\"name\"]}')"
      ],
      "metadata": {
        "colab": {
          "base_uri": "https://localhost:8080/"
        },
        "id": "tk9Vv2kdrwAU",
        "outputId": "7a57c463-3589-4099-df6c-769741c01e20"
      },
      "execution_count": null,
      "outputs": [
        {
          "output_type": "stream",
          "name": "stdout",
          "text": [
            "Sail\n",
            "AWOLNATION\n"
          ]
        }
      ]
    },
    {
      "cell_type": "code",
      "source": [
        "generos_rec = list(df_generos.generos.value_counts().head(3).index.values)\n",
        "artistas_rec = list(df_generos.artist_id.value_counts().head(2).index.values)"
      ],
      "metadata": {
        "id": "XOC0Ux2ZpT3K"
      },
      "execution_count": null,
      "outputs": []
    },
    {
      "cell_type": "code",
      "source": [
        "artistas_rec"
      ],
      "metadata": {
        "colab": {
          "base_uri": "https://localhost:8080/"
        },
        "id": "MOhwsVnYu32V",
        "outputId": "30d87b14-1e9d-4d66-e6db-3c914506a86b"
      },
      "execution_count": null,
      "outputs": [
        {
          "output_type": "execute_result",
          "data": {
            "text/plain": [
              "['spotify:artist:536BYVgOnRky0xjsPT96zl',\n",
              " 'spotify:artist:4AcHt3JxKy59IX7JNNlZn4']"
            ]
          },
          "metadata": {},
          "execution_count": 53
        }
      ]
    },
    {
      "cell_type": "code",
      "source": [
        "sp.recommendations(seed_artists=artistas_rec, seed_genres=generos_rec)['tracks'][0]['album']['artists'][0]\n",
        "seed_artista1 = sp.recommendations(seed_artists=artistas_rec, seed_genres=generos_rec)['tracks'][0]['album']['artists'][0]['uri']\n",
        "seed_artista2 = sp.recommendations(seed_artists=artistas_rec, seed_genres=generos_rec)['tracks'][1]['album']['artists'][0]['uri']"
      ],
      "metadata": {
        "id": "TA1qN3sLrxGh"
      },
      "execution_count": null,
      "outputs": []
    },
    {
      "cell_type": "code",
      "source": [
        "song = sp.artist_top_tracks(seed_artista1, country='US')['tracks'][0][\"id\"]\n",
        "print(f'{sp.track(song, market=None)[\"name\"]}')\n",
        "print(f'{sp.track(song, market=None)[\"album\"][\"artists\"][0][\"name\"]}')"
      ],
      "metadata": {
        "colab": {
          "base_uri": "https://localhost:8080/"
        },
        "id": "8IHScUp_v8v7",
        "outputId": "9b9d58a0-ba1e-4b38-880e-eb28aa6698eb"
      },
      "execution_count": null,
      "outputs": [
        {
          "output_type": "stream",
          "name": "stdout",
          "text": [
            "Good Luck\n",
            "Broken Bells\n"
          ]
        }
      ]
    },
    {
      "cell_type": "code",
      "source": [
        "song = sp.artist_top_tracks(seed_artista2, country='US')['tracks'][0][\"id\"]\n",
        "print(f'{sp.track(song, market=None)[\"name\"]}')\n",
        "print(f'{sp.track(song, market=None)[\"album\"][\"artists\"][0][\"name\"]}')"
      ],
      "metadata": {
        "colab": {
          "base_uri": "https://localhost:8080/"
        },
        "id": "Y8PUYyqi0zkF",
        "outputId": "653bc733-8b62-4c90-a68d-116ba367e539"
      },
      "execution_count": null,
      "outputs": [
        {
          "output_type": "stream",
          "name": "stdout",
          "text": [
            "Greek Tragedy - Oliver Nelson TikTok Remix\n",
            "The Wombats\n"
          ]
        }
      ]
    },
    {
      "cell_type": "code",
      "source": [
        "#sp.current_user()"
      ],
      "metadata": {
        "id": "da2UyPhd92Nx"
      },
      "execution_count": null,
      "outputs": []
    },
    {
      "cell_type": "code",
      "source": [
        ""
      ],
      "metadata": {
        "id": "OzskHSS6o1Hw"
      },
      "execution_count": null,
      "outputs": []
    }
  ]
}